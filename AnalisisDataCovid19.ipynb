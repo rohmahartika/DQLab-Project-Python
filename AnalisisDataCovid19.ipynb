{
  "nbformat": 4,
  "nbformat_minor": 0,
  "metadata": {
    "colab": {
      "name": "AnalisisDataCovid19.ipynb",
      "provenance": [],
      "authorship_tag": "ABX9TyMy5dAT9Y9TBjZc/A3+7pTv",
      "include_colab_link": true
    },
    "kernelspec": {
      "name": "python3",
      "display_name": "Python 3"
    }
  },
  "cells": [
    {
      "cell_type": "markdown",
      "metadata": {
        "id": "view-in-github",
        "colab_type": "text"
      },
      "source": [
        "<a href=\"https://colab.research.google.com/github/rohmahartika/DQLab-Project-Python/blob/main/AnalisisDataCovid19.ipynb\" target=\"_parent\"><img src=\"https://colab.research.google.com/assets/colab-badge.svg\" alt=\"Open In Colab\"/></a>"
      ]
    },
    {
      "cell_type": "markdown",
      "metadata": {
        "id": "IZ3h7FBc8Q7s"
      },
      "source": [
        "# **Eksplorasi dan Analisis Data COVID-19 Indonesia using Python**\r\n",
        "\r\n",
        "## **Latar Belakang Project**\r\n",
        "COVID-19 merupakan penyakit yang saat ini telah menjadi pandemi secara global. Kondisi menjadi semakin mengkhawatirkan karena hingga detik ini masih belum ditemukan vaksin yang efektif untuk virus penyebab COVID-19. Pemerintah di berbagai negara umumnya dengan sigap membentuk gugus tugas (task force unit) untuk menangani penyebaran COVID-19 di masyarakat, termasuk pemerintah di Indonesia.\r\n",
        "Salah satu bentuk aksi yang dilakukan oleh pemerintah adalah dengan mengumpulkan dan menyediakan data pertumbuhan kasus COVID-19 kepada publik. Data pertumbuhan kasus tersebut tidak jarang juga dilengkapi dengan dasbor dan grafik visualisasi pendukung dengan harapan masyarakat dapat memahami informasi dengan lebih mudah. Sebagai contoh adalah portal covid19.go.id besutan Gugus Tugas Penanganan COVID-19 Nasional dan portal PIKOBAR milik pemerintah Provinsi Jawa Barat. Serta banyak portal data COVID-19 lainnya yang disediakan oleh masing-masing pemerintah daerah.\r\n",
        "\r\n",
        "\r\n",
        "## **Mengakses API covid19.go.id**\r\n",
        "Rekapitulasi data COVID-19 Indonesia tersedia dalam API publik yang beralamat di https://data.covid19.go.id/public/api/update.json.\r\n",
        "Salah satu cara untuk mengakses API adalah dengan menggunakan fungsi `get()` dari library `requests`.\r\n",
        "Sekarang aktifkanlah library `requests` dan jalankan fungsi `get()` pada alamat API yang telah disebutkan! Simpan hasil fungsi tersebut dalam obyek bernama `resp`.\r\n"
      ]
    },
    {
      "cell_type": "code",
      "metadata": {
        "id": "CyXETuvQCltX"
      },
      "source": [
        "import requests\r\n",
        "resp = requests.get('https://data.covid19.go.id/public/api/update.json')"
      ],
      "execution_count": 6,
      "outputs": []
    },
    {
      "cell_type": "markdown",
      "metadata": {
        "id": "hRkxWfcoBOYb"
      },
      "source": [
        "# **Mengevaluasi Respon**\r\n",
        "Saat Anda menjalankan fungsi `get()`, pada dasarnya hal yang terjadi adalah Anda membuat sebuah permintaan kepada server penyedia API. Permintaan Anda tersebut selanjutnya diproses dan dijawab oleh server sebagai sebuah respon. Objek `resp` yang telah Anda buat memiliki informasi respon oleh server.\r\n",
        "\r\n",
        "Ada tiga informasi utama dalam sebuah respon API, yaitu **status**, **headers**, dan **body**. Status memiliki informasi apakah permintaan Anda berhasil atau tidak dan dinyatakan dalam status code, headers umumnya mengandung informasi metadata, sedangkan body berisikan konten atas permintaan yang telah dibuat.\r\n",
        "\r\n",
        "### **Ada beberapa jenis status code yang umumnya dijumpai, antara lain:**\r\n",
        "\r\n",
        "| Code |                      Arti kode                     |\r\n",
        "|------|----------------------------------------------------|\r\n",
        "| 200. | Artinya permintaan sukses dipenuhi.                |\r\n",
        "| 404. | Artinya berkas yang diminta tidak dapat ditemukan. |\r\n",
        "| 500. | Artinya akses permintaan ditolak.                  |\r\n",
        "| 501. | Artinya terjadi kesalahan pada server.             |\r\n",
        "\r\n",
        "Informasi lengkap mengenai jenis-jenis status code dapat Anda pelajari di https://restfulapi.net/http-status-codes/.\r\n",
        "\r\n",
        "\r\n",
        "Anda dapat mencetak resp secara langsung yang telah memberikan output status atas permintaan Anda melalui API. Sekarang coba lihatlah status atas permintaan yang telah Anda buat! Apakah permintaan Anda berhasil?\r\n"
      ]
    },
    {
      "cell_type": "code",
      "metadata": {
        "colab": {
          "base_uri": "https://localhost:8080/"
        },
        "id": "DAmAyt_tup8x",
        "outputId": "059b7b41-7312-454a-9b6c-1e25903f1fc4"
      },
      "source": [
        "print(resp)"
      ],
      "execution_count": 8,
      "outputs": [
        {
          "output_type": "stream",
          "text": [
            "<Response [200]>\n"
          ],
          "name": "stdout"
        }
      ]
    },
    {
      "cell_type": "markdown",
      "metadata": {
        "id": "_gAVVLPzEE5O"
      },
      "source": [
        "Status permintaan Anda melalui API sukses dipenuhi. Sekarang cobalah Anda jalankan attribut headers pada `resp` untuk mengetahui metadata apa saja yang tersimpan. Tampilkan dengan menggunakan fungsi print. \r\n",
        "\r\n",
        "Apakah isi dari elemen `content-type`?\r\n",
        "Kapan terakhir kali informasi diperbaharui?"
      ]
    },
    {
      "cell_type": "code",
      "metadata": {
        "colab": {
          "base_uri": "https://localhost:8080/"
        },
        "id": "3dhgKnbkunyM",
        "outputId": "aa0abd23-1d19-414e-91c3-eb5e40249cc7"
      },
      "source": [
        "print(resp.headers)"
      ],
      "execution_count": 7,
      "outputs": [
        {
          "output_type": "stream",
          "text": [
            "{'Server': 'nginx', 'Date': 'Tue, 16 Feb 2021 11:59:25 GMT', 'Content-Type': 'application/json', 'Transfer-Encoding': 'chunked', 'Connection': 'keep-alive', 'Vary': 'Accept-Encoding, Accept-Encoding', 'Last-Modified': 'Tue, 16 Feb 2021 11:57:26 GMT', 'ETag': 'W/\"602bb326-21039\"', 'X-Content-Type-Options': 'nosniff, nosniff', 'X-XSS-Protection': '1; mode=block, 1; mode=block', 'Strict-Transport-Security': 'max-age=31536000; includeSubDomains; preload', 'Content-Encoding': 'gzip'}\n"
          ],
          "name": "stdout"
        }
      ]
    },
    {
      "cell_type": "markdown",
      "metadata": {
        "id": "SYxh2vV9EmC5"
      },
      "source": [
        "# **Mengekstrak Isi Respon**\r\n",
        "Respon API dengan status code `200` menyatakan bahwa permintaan Anda berhasil dipenuhi dan konten yang diminta tersedia untuk diekstrak. Selain itu Anda juga telah mengetahui lewat attribut `headers` bahwa konten yang diminta tersedia dalam bentuk `application/json`, yaitu berkas `JSON`.\r\n",
        "Selanjutnya Anda dapat mengekstrak konten tersebut dengan menggunakan method `json()`. Method `json()` merupakan builtin JSON decoder untuk mengekstrak content bertipe JSON. Anda juga dapat menggunakan attribut `content` tetapi ini berupa binary content yang perlu Anda proses kembali nantinya. Jalankan method `json()` pada obyek `resp` dan simpanlah hasilnya sebagai `cov_id_raw`!\r\n",
        "`cov_id_raw` ini bertipe data `dict`.\r\n"
      ]
    },
    {
      "cell_type": "code",
      "metadata": {
        "id": "z5D-fWSZuvbI"
      },
      "source": [
        "cov_id_raw = resp.json()"
      ],
      "execution_count": 45,
      "outputs": []
    },
    {
      "cell_type": "markdown",
      "metadata": {
        "id": "nvyog_LCFGa6"
      },
      "source": [
        "# **Mengekstrak isi Respon - 2**\r\n",
        "Dengan menggunakan fungsi `len()` dan method `keys()` cobalah amati ada berapa komponen serta apa saja nama komponen dalam obyek `cov_id_raw` tersebut! Kemudian ekstraklah key ke-2 dan simpan dengan nama `cov_id_update`.\r\n"
      ]
    },
    {
      "cell_type": "code",
      "metadata": {
        "colab": {
          "base_uri": "https://localhost:8080/"
        },
        "id": "h6pPBy7gu3lP",
        "outputId": "53044205-9e8d-4813-b4dc-eff037a1fc46"
      },
      "source": [
        "print('Length of cov_id_raw : %d.' %len(cov_id_raw))\r\n",
        "print('Komponen cov_id_raw : %s.' %cov_id_raw.keys())\r\n",
        "cov_id_update = cov_id_raw['update']"
      ],
      "execution_count": 12,
      "outputs": [
        {
          "output_type": "stream",
          "text": [
            "Length of cov_id_raw : 2.\n",
            "Komponen cov_id_raw : dict_keys(['data', 'update']).\n"
          ],
          "name": "stdout"
        }
      ]
    },
    {
      "cell_type": "markdown",
      "metadata": {
        "id": "58NLEGEXFW0s"
      },
      "source": [
        "# **Analisa Data**\r\n",
        "Sekarang Anda diminta untuk fokus pada obyek `cov_id_update` untuk menjawab pertanyaan-pertanyaan berikut:\r\n",
        "- Kapan tanggal pembaharuan data penambahan kasus?\r\n",
        "-\tBerapa jumlah penambahan kasus sembuh?\r\n",
        "-\tBerapa jumlah penambahan kasus meninggal?\r\n",
        "-\tBerapa jumlah total kasus positif hingga saat ini?\r\n",
        "-\tBerapa jumlah total kasus meninggal hingga saat ini?\r\n"
      ]
    },
    {
      "cell_type": "code",
      "metadata": {
        "colab": {
          "base_uri": "https://localhost:8080/"
        },
        "id": "G3CV2sTFvJjc",
        "outputId": "bdbe8f4d-3d9f-4fa8-e17b-fd9d2b4b33c3"
      },
      "source": [
        "print('Tanggal pembaharuan data penambahan kasus :', cov_id_update['penambahan']['tanggal'])\r\n",
        "print('Jumlah penambahan kasus sembuh :', cov_id_update['penambahan']['jumlah_sembuh'])\r\n",
        "print('Jumlah penambahan kasus meninggal :', cov_id_update['penambahan']['jumlah_meninggal'])\r\n",
        "print('Jumlah total kasus positif hingga saat ini :', cov_id_update['total']['jumlah_positif'])\r\n",
        "print('Jumlah total kasus meninggal hingga saat ini:', cov_id_update['total']['jumlah_meninggal'])\r\n"
      ],
      "execution_count": 13,
      "outputs": [
        {
          "output_type": "stream",
          "text": [
            "Tanggal pembaharuan data penambahan kasus : 2021-02-16\n",
            "Jumlah penambahan kasus sembuh : 7609\n",
            "Jumlah penambahan kasus meninggal : 229\n",
            "Jumlah total kasus positif hingga saat ini : 1233959\n",
            "Jumlah total kasus meninggal hingga saat ini: 33596\n"
          ],
          "name": "stdout"
        }
      ]
    },
    {
      "cell_type": "markdown",
      "metadata": {
        "id": "SXcp48R8FovY"
      },
      "source": [
        "# **Apa Kabar Jawa Barat?**\r\n",
        "Anda telah berhasil menjawab pertanyaan mengenai kondisi COVID-19 di Indonesia dengan menggunakan data yang langsung diambil menggunakan API. Namun bagaimana jika Anda ingin berfokus dengan data COVID-19 di provinsi tempat menetap saat ini?\r\n",
        "covid19.go.id menyediakan data kasus COVID-19 tingkat provinsi di alamat API yang berbeda. Sebagai data mengenai COVID-19 Jawa Barat, tempat tinggal saya sekarang, tersedia di https://data.covid19.go.id/public/api/prov_detail_JAWA_BARAT.json.\r\n"
      ]
    },
    {
      "cell_type": "code",
      "metadata": {
        "colab": {
          "base_uri": "https://localhost:8080/"
        },
        "id": "VO6ix_hvvYKK",
        "outputId": "42335690-3bdb-4d43-8f18-0162d8a04c2c"
      },
      "source": [
        "import requests\r\n",
        "resp_jabar = requests.get('https://data.covid19.go.id/public/api/prov_detail_JAWA_BARAT.json')\r\n",
        "cov_jabar_raw = resp_jabar.json()\r\n",
        "print(resp_jabar.headers)"
      ],
      "execution_count": 16,
      "outputs": [
        {
          "output_type": "stream",
          "text": [
            "{'Server': 'nginx', 'Date': 'Tue, 16 Feb 2021 12:03:56 GMT', 'Content-Type': 'application/json', 'Transfer-Encoding': 'chunked', 'Connection': 'keep-alive', 'Vary': 'Accept-Encoding, Accept-Encoding', 'Last-Modified': 'Tue, 16 Feb 2021 09:29:50 GMT', 'ETag': 'W/\"602b908e-14827\"', 'X-Content-Type-Options': 'nosniff, nosniff', 'X-XSS-Protection': '1; mode=block, 1; mode=block', 'Strict-Transport-Security': 'max-age=31536000; includeSubDomains; preload', 'Content-Encoding': 'gzip'}\n"
          ],
          "name": "stdout"
        }
      ]
    },
    {
      "cell_type": "markdown",
      "metadata": {
        "id": "DtKCC08qFw6x"
      },
      "source": [
        "# **Memahami Kasus COVID-19 di Jawa Barat**\r\n",
        "Sekarang jalankanlah method `keys()` pada `cov_jabar_raw` tersebut untuk mengetahui nama-nama elemen utama yang tersedia dan jawablah pertanyaan berikut:\r\n",
        "•\tBerapa jumlah total kasus COVID-19 di Jawa Barat?\r\n",
        "•\tBerapa persentase kematian akibat COVID-19 di Jawa Barat?\r\n",
        "•\tBerapa persentase tingkat kesembuhan dari COVID-19 di Jawa Barat?\r\n"
      ]
    },
    {
      "cell_type": "code",
      "metadata": {
        "colab": {
          "base_uri": "https://localhost:8080/"
        },
        "id": "vIqI1EgAvnQO",
        "outputId": "43f521d1-24d2-41b4-91b2-b7a616a2e9c1"
      },
      "source": [
        "print('Nama-nama elemen utama:\\n', cov_jabar_raw.keys())\r\n",
        "print('\\nJumlah total kasus COVID-19 di Jawa Barat                 : %d' %cov_jabar_raw['kasus_total'])\r\n",
        "print('Persentase kematian akibat COVID-19 di Jawa Barat         : %f.2%%' %cov_jabar_raw['meninggal_persen'])\r\n",
        "print('Persentase tingkat kesembuhan dari COVID-19 di Jawa Barat : %f.2%%' %cov_jabar_raw['sembuh_persen'])"
      ],
      "execution_count": 17,
      "outputs": [
        {
          "output_type": "stream",
          "text": [
            "Nama-nama elemen utama:\n",
            " dict_keys(['last_date', 'provinsi', 'kasus_total', 'kasus_tanpa_tgl', 'kasus_dengan_tgl', 'meninggal_persen', 'meninggal_tanpa_tgl', 'meninggal_dengan_tgl', 'sembuh_persen', 'sembuh_tanpa_tgl', 'sembuh_dengan_tgl', 'list_perkembangan', 'data'])\n",
            "\n",
            "Jumlah total kasus COVID-19 di Jawa Barat                 : 175950\n",
            "Persentase kematian akibat COVID-19 di Jawa Barat         : 1.203751.2%\n",
            "Persentase tingkat kesembuhan dari COVID-19 di Jawa Barat : 84.599602.2%\n"
          ],
          "name": "stdout"
        }
      ]
    },
    {
      "cell_type": "markdown",
      "metadata": {
        "id": "NnChAyrzF7fZ"
      },
      "source": [
        "# **Memperoleh Informasi yang Lebih Lengkap**\r\n",
        "Informasi umum mengenai COVID-19 di Jawa Barat telah Anda dapatkan. Namun informasi akan lebih lengkap jika Anda memiliki data perkembangan COVID-19 dari waktu ke waktu, apakah Anda setuju?\r\n",
        "\r\n",
        "Kabar baiknya adalah informasi tersebut juga disediakan oleh covid19.go.id melalui permintaan API yang telah Anda buat sebelumnya. Data historis perkembangan COVID-19 tersebut tersimpan dengan nama `list_perkembangan`. Silakan Anda ekstrak data tersebut dari `cov_jabar_raw` dan untuk lebih memudahkan dalam menginspeksi data ubahlah data bertipe `dict` ke pandas dataframe. Kemudian simpanlah hasilnya sebagai obyek bernama `cov_jabar`! Amati struktur `cov_jabar` menggunakan method `info()` dan `head()`.\r\n"
      ]
    },
    {
      "cell_type": "code",
      "metadata": {
        "colab": {
          "base_uri": "https://localhost:8080/"
        },
        "id": "0MwM3tstvz_6",
        "outputId": "b9d108f3-68a2-4e26-bfca-4ce026683082"
      },
      "source": [
        "import numpy as np        \r\n",
        "import pandas as pd        \r\n",
        "cov_jabar = pd.DataFrame(cov_jabar_raw['list_perkembangan'])\r\n",
        "print('Info cov_jabar:\\n', cov_jabar.info())\r\n",
        "print('\\nLima data teratas cov_jabar:\\n', cov_jabar.head())"
      ],
      "execution_count": 19,
      "outputs": [
        {
          "output_type": "stream",
          "text": [
            "<class 'pandas.core.frame.DataFrame'>\n",
            "RangeIndex: 351 entries, 0 to 350\n",
            "Data columns (total 9 columns):\n",
            " #   Column                        Non-Null Count  Dtype\n",
            "---  ------                        --------------  -----\n",
            " 0   tanggal                       351 non-null    int64\n",
            " 1   KASUS                         351 non-null    int64\n",
            " 2   MENINGGAL                     351 non-null    int64\n",
            " 3   SEMBUH                        351 non-null    int64\n",
            " 4   DIRAWAT_OR_ISOLASI            351 non-null    int64\n",
            " 5   AKUMULASI_KASUS               351 non-null    int64\n",
            " 6   AKUMULASI_SEMBUH              351 non-null    int64\n",
            " 7   AKUMULASI_MENINGGAL           351 non-null    int64\n",
            " 8   AKUMULASI_DIRAWAT_OR_ISOLASI  351 non-null    int64\n",
            "dtypes: int64(9)\n",
            "memory usage: 24.8 KB\n",
            "Info cov_jabar:\n",
            " None\n",
            "\n",
            "Lima data teratas cov_jabar:\n",
            "          tanggal  KASUS  ...  AKUMULASI_MENINGGAL  AKUMULASI_DIRAWAT_OR_ISOLASI\n",
            "0  1583107200000      3  ...                    0                             3\n",
            "1  1583193600000      1  ...                    1                             3\n",
            "2  1583280000000      1  ...                    1                             4\n",
            "3  1583366400000      1  ...                    1                             5\n",
            "4  1583452800000      1  ...                    1                             6\n",
            "\n",
            "[5 rows x 9 columns]\n"
          ],
          "name": "stdout"
        }
      ]
    },
    {
      "cell_type": "markdown",
      "metadata": {
        "id": "E7bM0BllGOBD"
      },
      "source": [
        "# **Menjinakkan Data**\r\n",
        "Setelah mengekstrak dan mengamati cov_jabar, Anda menemukan beberapa kejanggalan pada data tersebut. Diantaranya adalah kejanggalan data pada kolom tanggal dan format penulisan kolom yang tidak konsisten. Sekarang Anda akan mencoba melakukan beberapa tahapan untuk menjinakan data tersebut sehingga dapat diolah dan dianalisis dengan lebih mudah.\r\n",
        "Ada beberapa tahapan yang akan Anda lakukan untuk menjinakan data `cov_jabar`, yaitu:\r\n",
        "•\tMenghapus kolom `DIRAWAT_OR_ISOLASI` dan semua kolom yang berisi nilai kumulatif\r\n",
        "-\tMerubah format penulisan semua kolom menjadi huruf kecil\r\n",
        "-\tMengganti nama kolom `kasus` menjadi `kasus_baru`\r\n",
        "-\tMemperbaiki tipe data pada kolom `tanggal` menggunakan `pd.to_datetime`\r\n",
        "\r\n",
        "Lengkapilah baris kode berikut untuk melakukan menjinakan data sesuai dengan tahapan yang telah Anda rencanakan! Anda akan menggunakan teknik chaining pada dataframe. Simpan hasil pengolahan Anda dengan nama `cov_jabar_tidy`.\r\n"
      ]
    },
    {
      "cell_type": "code",
      "metadata": {
        "colab": {
          "base_uri": "https://localhost:8080/"
        },
        "id": "COy3lhuFwDaw",
        "outputId": "f9e6988f-b2ca-445e-b6cf-d4084f14199d"
      },
      "source": [
        "cov_jabar_tidy = (cov_jabar.drop(columns=[item for item in cov_jabar.columns\r\n",
        "if item.startswith('AKUMULASI')\r\n",
        "or item.startswith('DIRAWAT')])\r\n",
        ".rename(columns=str.lower)\r\n",
        ".rename(columns={'kasus': 'kasus_baru'})\r\n",
        ")\r\n",
        "cov_jabar_tidy['tanggal'] = pd.to_datetime(cov_jabar_tidy['tanggal']*1e6, unit='ns')\r\n",
        "print('Lima data teratas:\\n', cov_jabar_tidy.head())"
      ],
      "execution_count": 21,
      "outputs": [
        {
          "output_type": "stream",
          "text": [
            "Lima data teratas:\n",
            "      tanggal  kasus_baru  meninggal  sembuh\n",
            "0 2020-03-02           3          0       0\n",
            "1 2020-03-03           1          1       0\n",
            "2 2020-03-04           1          0       0\n",
            "3 2020-03-05           1          0       0\n",
            "4 2020-03-06           1          0       0\n"
          ],
          "name": "stdout"
        }
      ]
    },
    {
      "cell_type": "markdown",
      "metadata": {
        "id": "kBBRkOCkGoRV"
      },
      "source": [
        "# **Menunjukkan Melalui Gambar**\r\n",
        "Akhirnya Anda berhasil menjinakan data `cov_jabar` menjadi `cov_jabar_tidy` sehingga lebih mudah untuk diolah, selamat! Memiliki data yang rapi memang menyenangkan, apakah Anda setuju dengan hal tersebut?\r\n",
        "\r\n",
        "Setelah memiliki data yang jinak, sekarang saatnya Anda mengekspresikan data tersebut dalam bentuk lain yang harapannya lebih mudah dicerna: grafik. Anda akan memulai merancang visualisasi yang memiliki estetika dengan menggunakan library `matplotlib`. \r\n",
        "\r\n",
        "![1.png](data:image/png;base64,iVBORw0KGgoAAAANSUhEUgAAAWkAAAAuCAYAAADqUeguAAAAAXNSR0IArs4c6QAAAARnQU1BAACxjwv8YQUAAAAJcEhZcwAADsMAAA7DAcdvqGQAAAdjSURBVHhe7ZztbeMwDIY7Y4FbqOgq6SjpIPfjxsiZlGRTFEXbij+U+H0AAbUdSSRFvpadoB8PAAAA3QKRBgCAjoFIAwBAx0CkAQCgYyDSAADQMRBpAADoGIg0AAB0DEQaAAA6xhXp+9fH4+Mjtq97PEv8e9z+DOf+3Ia/wESMC8fs83H7G0+fxL+fT7VuSznZj99vO7f+3h6fKR+1XdRnOP/9G4+3IM73+XN0lof4b+rLK0DxrmoKxeT8mjqDukjXCoWBSPvcH9+muNXO70O7SCda7H1SYFgYrTlnxn0jkebN0VPr9rq4Ocvr8T1k5bWoivTzBX5lINJtYun1PTZ2p+Fujq6Anz9X1KVCpDkI/DgpmyiOuGPhVgQrBDjv+/ydL3vtMrRxAYvdExXyvjsfis/nz134uUyMtQ+hLY2NjuvUj8aV/spjz9ZWP5i4w0z2yPnSuanJ/nU/GFOgwprmYw5tzD05pmGrzNfYxngpP2Q+y/XSgmH5KT+TrfUqwfUF6jK4N6qL3KwFzTtp6zon53hup2BSYckF5CIMxa4Fq451M5G210kFmgrJjlPN98aYkI8V27TP8tiztdkPFjZ5jj4jhcURGscPgmyor99c7OZt1T5SrEw7RxaI5uCTtFn7II+5PijPZMvEiHx4flPz+vhrvbzO34OdRXquCJbBc2XJnSfyeN2xdysKv/VNg6klmZ98VcYdX1nAOmHlsWdrsx+G0OY2OMLm+EHQOPV8mYudcZ3nm86xz8LH+byZEWkaP+vbfvNnzDW4IhTH+lrTukGkB4oiVpjXeVc7JecmgVSFFo5Lkf4cFnX5o2V7MRV+m4W1sUiPUH+ydRrjpUR6pPSD2Fyki3Wu7FJT3hb+e77QfHo8X1zIv8mW2OSc5hpcET+OXO8Q6RAIT7TK635gA6loKsViwQU0fT4kuuhP12Ni52KxD9pve86aoHhFPxDFYs4HKWYcj2SP6u/Z2uwH3yTFOX08YI9VIv0gyKZ6vwaRpnhkOepRE117ve5fti28Hs1Ca9kwwWs2rK+ZP27u0Lg1u7xrHn4tt9tK+HHQefPurBbpFPysKZGQTS8EJ7FbbJqUDGm827SAPJ8cKybc4sJcT+F/NlecP2uGcIzXVCJWktedk0Uynh8K7T58NvX3+j3lh1rnomCkTaKfP+cAjVsVC7LJyhvP1jx3QksxL69Nflj9puuFH0Ob1swbd47Qt/b5NK95vZI7gRgjM7bJ3roo2vj92m0daMqD96Uq0usxEowXwxKitQnRD5x8WlxekD798EVqNUWxh/Gr4tADrkDtA+fCwXPW8XPgXepvDRuKdLhby+Dmi592PK8r0AREemeM1yetlOJT5miP8NPmEWuTnni6EeiZvGR7X1s/WthQpAd4l0xCnNr7BRQifQCUR5vYlh7Jp9b1LnqE7L7WIz1DIly9YVw0JgPbijQAAIBNgUgDAEDHQKQBAKBjThHp8DO8Dd9Xxy9ADnnfmL5sobbTFy4Un9d4d9oh7/rl0mbv6cGrAZFupemnUvO/8Sx/kQBWsUqk/Z979QZu3tcErzta2UOk33UXeCRvLNJLbvLg/TBFmndz6ZE+26HG3zqLxy7eFS8RK/3zPNUnn1MUGRXd8Nkb775Dk0UVduXleSbusNP1pY+LNOb3b/SVm1H0NZFWfiabpJ1Ty8fFTqkRvc4irjruaT10joc2CWC9Bs6F7cJrj0uxYCdNYiXFJIgXJ3vTbnIgCu/Yj8aRiSePUwGmY3NOe0cUxDYerCAU9lSwpnhadtA5fYPJdj7eTui6vwN9Ch1jPjZuqoTOu0relMgaCH2kgHM7Sjg9/8BbYos0i41MQiUenCh0vjFZVLHo3Q63dF0npZmkdrGNu6GVBVSIsrxpJAyRpvlyMdd2eSKtb4ZgCcXOUuWH3hHnOeuI9FwNnAby5GoYIk1JMCMsLLKDILUmriHS1d3MEyI9kgpOiWoNiPTr4Io0/y3iXeROLW+8Ggh9cgEf2sqNQDvIk6tRirRK7LATkcIiEtYQqpTgriDSHOJ6mKOSeLqwikIjZkSaWZ7cuUhXxrZ855uBmEMfu3bSNRlnBY9VezfqxTyJiuW7d80n7VBNX5ptXZA7mizGsX86VvEPT2y5r8UNmZitgTla12MmroSqHfD+mK87QjLH9nUT4hGSTyZ1mfgLCs1ItGxOOYcr0inh8xYSvLxWTXxF1RYiClDWhC+pyEIzCjvrv0AwEs3C54tC8HWNAAX2Eem2m8a0XuQHjW/nR/ZvbhOcT7J/OJ3lQFYDS2j3cU6k+fphu3bQAwu+ONwBKmIzgfvAFcs90TekI2BBPXhOBxahjnPjXEj8199QwWtzikjzLqXj3cBpIj1wnEjF3V4vAp12tBDoKmfmJTiPw0Q6e3w8uRAzW1SjIji7GGj+pa9mwEWgJx685rgk57zuAAAAsAiINAAAdAxEGgAAOgYiDQAAHQORBgCAjoFIAwBAx0CkAQCgYyDSAADQMRBpAADoGIg0AAB0DEQaAAC65fH4D8o7bAIiGVltAAAAAElFTkSuQmCC)\r\n",
        "\r\n",
        "Berdasarkan template tersebut, komponen utama untuk membuat visualisasi antara lain adalah tabel data, kolom data, serta bentuk geometri untuk mempresentasikan data. Sebagai contoh untuk membuat scatter-plot yang diperlukan adalah bentuk geometri titik (`.scatter()`), line-chart memerlukan geometri garis (`.plot()`), sedangkan bar-chart memerlukan bentuk geometri batang atau kolom (`.bar()`).\r\n",
        "Lengkapi baris kode berikut untuk membuat bar-chart jumlah kasus baru harian COVID-19 di Jawa Barat menggunakan data `cov_jabar_tidy`! Pergunakan kolom `tanggal` sebagai sumbu-x.\r\n",
        "\r\n"
      ]
    },
    {
      "cell_type": "code",
      "metadata": {
        "colab": {
          "base_uri": "https://localhost:8080/",
          "height": 337
        },
        "id": "apxR0AOTwOyz",
        "outputId": "9e4965fd-c01b-43c5-f5cf-ef8d821da02c"
      },
      "source": [
        "import matplotlib.pyplot as plt\r\n",
        "        \r\n",
        "plt.clf()\r\n",
        "fig, ax = plt.subplots(figsize=(10,5))\r\n",
        "ax.bar(data=cov_jabar_tidy, x='tanggal', height='kasus_baru')\r\n",
        "plt.show()"
      ],
      "execution_count": 23,
      "outputs": [
        {
          "output_type": "display_data",
          "data": {
            "text/plain": [
              "<Figure size 432x288 with 0 Axes>"
            ]
          },
          "metadata": {
            "tags": []
          }
        },
        {
          "output_type": "display_data",
          "data": {
            "image/png": "[encoded data removed]",
            "text/plain": [
              "<Figure size 720x360 with 1 Axes>"
            ]
          },
          "metadata": {
            "tags": [],
            "needs_background": "light"
          }
        }
      ]
    },
    {
      "cell_type": "markdown",
      "metadata": {
        "id": "shRCBvajIChM"
      },
      "source": [
        "# **Informasi pada Grafik**\r\n",
        "Anda telah berhasil membuat bar-chart yang diminta. Namun grafik tersebut belum memiliki informasi yang jelas serta cenderung membosankan untuk dilihat. Sekarang silakan buat kembali grafik tersebut dengan menggunakan baris kode yang telah dimodifikasi berikut:\r\n"
      ]
    },
    {
      "cell_type": "code",
      "metadata": {
        "colab": {
          "base_uri": "https://localhost:8080/",
          "height": 400
        },
        "id": "rnMcWcYMwR55",
        "outputId": "acdfd30d-0a20-498f-e872-538196fc0d04"
      },
      "source": [
        "import matplotlib.pyplot as plt\r\n",
        "import matplotlib.dates as mdates\r\n",
        "\r\n",
        "plt.clf()\r\n",
        "fig, ax = plt.subplots(figsize=(10,5))\r\n",
        "ax.bar(data=cov_jabar_tidy, x='tanggal', height='kasus_baru', color='salmon')\r\n",
        "fig.suptitle('Kasus Harian Positif Covid-19 di Jawa Barat', \r\n",
        "             y=1.00, fontsize=16, fontweight='bold', ha='center')\r\n",
        "ax.set_title('Terjadi pelonjakan kasus di awal bulan Juli akibat klaster Secapa AD Bandung',\r\n",
        "             fontsize=10)\r\n",
        "ax.set_xlabel('')\r\n",
        "ax.set_ylabel('Jumlah kasus')\r\n",
        "ax.text(1, -0.1, 'Sumber data: covid.19.go.id', color='blue',\r\n",
        "        ha='right', transform=ax.transAxes)\r\n",
        "\r\n",
        "ax.xaxis.set_major_locator(mdates.MonthLocator())\r\n",
        "ax.xaxis.set_major_formatter(mdates.DateFormatter('%b %Y'))\r\n",
        "\r\n",
        "plt.grid(axis='y')\r\n",
        "plt.tight_layout()\r\n",
        "plt.show()"
      ],
      "execution_count": 24,
      "outputs": [
        {
          "output_type": "display_data",
          "data": {
            "text/plain": [
              "<Figure size 432x288 with 0 Axes>"
            ]
          },
          "metadata": {
            "tags": []
          }
        },
        {
          "output_type": "display_data",
          "data": {
            "image/png": "[encoded data removed]",
            "text/plain": [
              "<Figure size 720x360 with 1 Axes>"
            ]
          },
          "metadata": {
            "tags": [],
            "needs_background": "light"
          }
        }
      ]
    },
    {
      "cell_type": "markdown",
      "metadata": {
        "id": "8i_2104XIK7K"
      },
      "source": [
        "# **Grafik untuk Kasus Sembuh**\r\n",
        "Sekarang buatlah grafik serupa dengan menggunakan data kasus sembuh menggunakan warna `olivedrab`!\r\n"
      ]
    },
    {
      "cell_type": "code",
      "metadata": {
        "colab": {
          "base_uri": "https://localhost:8080/",
          "height": 388
        },
        "id": "ks9gmosAywvf",
        "outputId": "6f004326-ef15-4433-ca06-4306e811b4ab"
      },
      "source": [
        "import matplotlib.pyplot as plt\r\n",
        "import matplotlib.dates as mdates\r\n",
        "\r\n",
        "plt.clf()\r\n",
        "fig, ax = plt.subplots(figsize=(10,5))\r\n",
        "ax.bar(data=cov_jabar_tidy, x='tanggal', height='sembuh', color='olivedrab')\r\n",
        "ax.set_title('Kasus Harian Sembuh Dari COVID-19 di Jawa Barat',\r\n",
        "fontsize=22)\r\n",
        "ax.set_xlabel('')\r\n",
        "ax.set_ylabel('Jumlah kasus')\r\n",
        "ax.text(1, -0.1, 'Sumber data: covid.19.go.id', color='blue',\r\n",
        "ha='right', transform=ax.transAxes)\r\n",
        "\r\n",
        "ax.xaxis.set_major_locator(mdates.MonthLocator())\r\n",
        "ax.xaxis.set_major_formatter(mdates.DateFormatter('%b %Y'))\r\n",
        "\r\n",
        "plt.grid(axis='y')\r\n",
        "plt.tight_layout()\r\n",
        "plt.show()"
      ],
      "execution_count": 25,
      "outputs": [
        {
          "output_type": "display_data",
          "data": {
            "text/plain": [
              "<Figure size 432x288 with 0 Axes>"
            ]
          },
          "metadata": {
            "tags": []
          }
        },
        {
          "output_type": "display_data",
          "data": {
            "image/png": "[encoded data removed]",
            "text/plain": [
              "<Figure size 720x360 with 1 Axes>"
            ]
          },
          "metadata": {
            "tags": [],
            "needs_background": "light"
          }
        }
      ]
    },
    {
      "cell_type": "markdown",
      "metadata": {
        "id": "B6om3ACJIUQU"
      },
      "source": [
        "# **Grafik untuk Kasus Meninggal**\r\n",
        "Sekarang buatlah grafik serupa dengan menggunakan data kasus meninggal menggunakan warna `slategrey`!\r\n"
      ]
    },
    {
      "cell_type": "code",
      "metadata": {
        "colab": {
          "base_uri": "https://localhost:8080/",
          "height": 388
        },
        "id": "8qUfK1dlzxN4",
        "outputId": "38830439-ab7b-4cd7-bcc2-e28da0e7a228"
      },
      "source": [
        "import matplotlib.pyplot as plt\r\n",
        "import matplotlib.dates as mdates\r\n",
        "\r\n",
        "plt.clf()\r\n",
        "fig, ax = plt.subplots(figsize=(10,5))\r\n",
        "ax.bar(data=cov_jabar_tidy, x='tanggal', height='meninggal', color='slategrey')\r\n",
        "ax.set_title('Kasus Harian Meninggal Dari COVID-19 di Jawa Barat',\r\n",
        "fontsize=22)\r\n",
        "ax.set_xlabel('')\r\n",
        "ax.set_ylabel('Jumlah kasus')\r\n",
        "ax.text(1, -0.1, 'Sumber data: covid.19.go.id', color='blue',\r\n",
        "ha='right', transform=ax.transAxes)\r\n",
        "\r\n",
        "ax.xaxis.set_major_locator(mdates.MonthLocator())\r\n",
        "ax.xaxis.set_major_formatter(mdates.DateFormatter('%b %Y'))\r\n",
        "\r\n",
        "plt.grid(axis='y')\r\n",
        "plt.tight_layout()\r\n",
        "plt.show()"
      ],
      "execution_count": 26,
      "outputs": [
        {
          "output_type": "display_data",
          "data": {
            "text/plain": [
              "<Figure size 432x288 with 0 Axes>"
            ]
          },
          "metadata": {
            "tags": []
          }
        },
        {
          "output_type": "display_data",
          "data": {
            "image/png": "[encoded data removed]",
            "text/plain": [
              "<Figure size 720x360 with 1 Axes>"
            ]
          },
          "metadata": {
            "tags": [],
            "needs_background": "light"
          }
        }
      ]
    },
    {
      "cell_type": "markdown",
      "metadata": {
        "id": "Sz6rC-5L0czU"
      },
      "source": [
        "**Apakah Pekan ini Lebih Baik?**\r\n",
        "\r\n",
        "Setelah mengamati grafik perkembangan kasus Anda menyadari bahwa terjadi fluktuasi pertambahan kasus harian. Dilandasi hal tersebut Anda kemudian ingin mencoba mengamati bagaimana perkembangan kasus dalam rentang waktu pekanan. Bagaimanakah caranya?\r\n",
        "\r\n",
        "Anda dapat dengan mudah mengerjakannya Anda sudah dibantu melalui predefined code, yaitu set terlebih dahulu kolom `tanggal` pada `cov_jabar_tidy` sebagai index. Kemudian terapkan method pada time series di pandas, resampling per pekan dan gunakan agregasi penjumlahan. Adapun yang akan digunakan untuk mengekstrak informasi pekan dalam satu tahun adalah `weekofyear` dan `year` untuk tahun.\r\n",
        "\r\n",
        "Lengkapilah baris kode berikut untuk menghitung pertambahan kasus pekanan dan simpanlah hasilnya sebagai `cov_jabar_pekanan`! Anda juga diminta untuk menggunakan method `info()` dan `.head()` untuk melakukan inspeksi data."
      ]
    },
    {
      "cell_type": "code",
      "metadata": {
        "colab": {
          "base_uri": "https://localhost:8080/"
        },
        "id": "ocC8WusE0e4Z",
        "outputId": "ac6f6549-fe96-4ffc-a786-c77d79273ef6"
      },
      "source": [
        "cov_jabar_pekanan = (cov_jabar_tidy.set_index('tanggal')['kasus_baru']\r\n",
        "                                   .resample('W')\r\n",
        "                                   .sum()\r\n",
        "                                   .reset_index()\r\n",
        "                                   .rename(columns={'kasus_baru': 'jumlah'})\r\n",
        "                    )\r\n",
        "cov_jabar_pekanan['tahun'] = cov_jabar_pekanan['tanggal'].apply(lambda x: x.year)\r\n",
        "cov_jabar_pekanan['pekan_ke'] = cov_jabar_pekanan['tanggal'].apply(lambda x: x.weekofyear)\r\n",
        "cov_jabar_pekanan = cov_jabar_pekanan[['tahun', 'pekan_ke', 'jumlah']]\r\n",
        "\r\n",
        "print('Info cov_jabar_pekanan:')\r\n",
        "print(cov_jabar_pekanan.info())\r\n",
        "print('\\nLima data teratas cov_jabar_pekanan:\\n', cov_jabar_pekanan.head())"
      ],
      "execution_count": 27,
      "outputs": [
        {
          "output_type": "stream",
          "text": [
            "Info cov_jabar_pekanan:\n",
            "<class 'pandas.core.frame.DataFrame'>\n",
            "RangeIndex: 51 entries, 0 to 50\n",
            "Data columns (total 3 columns):\n",
            " #   Column    Non-Null Count  Dtype\n",
            "---  ------    --------------  -----\n",
            " 0   tahun     51 non-null     int64\n",
            " 1   pekan_ke  51 non-null     int64\n",
            " 2   jumlah    51 non-null     int64\n",
            "dtypes: int64(3)\n",
            "memory usage: 1.3 KB\n",
            "None\n",
            "\n",
            "Lima data teratas cov_jabar_pekanan:\n",
            "    tahun  pekan_ke  jumlah\n",
            "0   2020        10       7\n",
            "1   2020        11       5\n",
            "2   2020        12      52\n",
            "3   2020        13     104\n",
            "4   2020        14     122\n"
          ],
          "name": "stdout"
        }
      ]
    },
    {
      "cell_type": "markdown",
      "metadata": {
        "id": "JTEKGUpJIva6"
      },
      "source": [
        "# **Menjawab Pertanyaan**\r\n",
        "Pertanyaan baru muncul di benak Anda setelah melakukan inspeksi terhadap data `cov_jabar_pekanan` tersebut: \"Apakah pekan ini lebih baik dari pekan kemarin?\"\r\n",
        "Demi menjawab hal tersebut Anda melakukan kalkulasi sederhana dengan tahapan berikut:\r\n",
        "-\tMembuat kolom baru yang berisi jumlah kasus baru dalam satu pekan sebelumnya. Kolom ini diberi nama `jumlah_pekanlalu`.\r\n",
        "-\tMengganti nilai `NaN` pada kolom `jumlah_pekanlalu` dengan nilai 0\r\n",
        "-\tMelakukan komparasi antara kolom `jumlah` dengan kolom `jumlah_pekanlalu`. Hasil komparasi ini disimpan dalam kolom baru dengan nama `lebih_baik`, isinya adalah `True` apabila jumlah kasus baru pekan ini lebih rendah dibandingkan jumlah kasus pekan lalu\r\n",
        "Lengkapilah baris predefined kode yang diberikan untuk mengerjakan tahapan yang telah Anda rencanakan! Anda akan menggunakan method `shift()` untuk membuat kolom `jumlah_pekanlalu`. Inspeksi hasil pekerjaan Anda dengan menggunakan `head(10)`!\r\n"
      ]
    },
    {
      "cell_type": "code",
      "metadata": {
        "colab": {
          "base_uri": "https://localhost:8080/"
        },
        "id": "IM8oyBrM2Mf3",
        "outputId": "9ba4b872-c14d-473e-bc0d-b9f1d4620dac"
      },
      "source": [
        "cov_jabar_pekanan['jumlah_pekanlalu'] = cov_jabar_pekanan['jumlah'].shift().replace(np.nan, 0).astype(np.int)\r\n",
        "cov_jabar_pekanan['lebih_baik'] = cov_jabar_pekanan['jumlah'] < cov_jabar_pekanan['jumlah_pekanlalu']\r\n",
        "\r\n",
        "print('Sepuluh data teratas:\\n', cov_jabar_pekanan.head(10))"
      ],
      "execution_count": 28,
      "outputs": [
        {
          "output_type": "stream",
          "text": [
            "Sepuluh data teratas:\n",
            "    tahun  pekan_ke  jumlah  jumlah_pekanlalu  lebih_baik\n",
            "0   2020        10       7                 0       False\n",
            "1   2020        11       5                 7        True\n",
            "2   2020        12      52                 5       False\n",
            "3   2020        13     104                52       False\n",
            "4   2020        14     122               104       False\n",
            "5   2020        15     235               122       False\n",
            "6   2020        16     277               235       False\n",
            "7   2020        17     216               277        True\n",
            "8   2020        18     156               216        True\n",
            "9   2020        19     367               156       False\n"
          ],
          "name": "stdout"
        }
      ]
    },
    {
      "cell_type": "markdown",
      "metadata": {
        "id": "THnVFJ63JKqi"
      },
      "source": [
        "# **Membuat Bar Chart**\r\n",
        "Anda sungguh luar biasa! Dengan menggunakan data hasil perhitungan tersebut maka sekarang Anda dapat membuat bar-chat penambahan kasus pekanan yang ditambahkan informasi baru untuk menjawab pertanyaan: \"Apakah pekan ini lebih baik?\"\r\n"
      ]
    },
    {
      "cell_type": "code",
      "metadata": {
        "colab": {
          "base_uri": "https://localhost:8080/",
          "height": 400
        },
        "id": "EnO0EAgl4l3p",
        "outputId": "4acaf024-cd51-4ac3-95de-213f492466ed"
      },
      "source": [
        "import matplotlib.pyplot as plt\r\n",
        "\r\n",
        "plt.clf()\r\n",
        "fig, ax = plt.subplots(figsize=(10,5))\r\n",
        "ax.bar(data=cov_jabar_pekanan, x='pekan_ke', height='jumlah',\r\n",
        "color=['mediumseagreen' if x is True else 'salmon' for x in cov_jabar_pekanan['lebih_baik']])\r\n",
        "fig.suptitle('Kasus Pekanan Positif COVID-19 di Jawa Barat',\r\n",
        "y=1.00, fontsize=16, fontweight='bold', ha='center')\r\n",
        "ax.set_title('Kolom hijau menunjukan penambahan kasus baru lebih sedikit dibandingkan satu pekan sebelumnya',\r\n",
        "fontsize=12)\r\n",
        "ax.set_xlabel('')\r\n",
        "ax.set_ylabel('Jumlah kasus')\r\n",
        "ax.text(1, -0.1, 'Sumber data: covid.19.go.id', color='blue',\r\n",
        "ha='right', transform=ax.transAxes)\r\n",
        "\r\n",
        "plt.grid(axis='y')\r\n",
        "plt.tight_layout()\r\n",
        "plt.show()"
      ],
      "execution_count": 37,
      "outputs": [
        {
          "output_type": "display_data",
          "data": {
            "text/plain": [
              "<Figure size 432x288 with 0 Axes>"
            ]
          },
          "metadata": {
            "tags": []
          }
        },
        {
          "output_type": "display_data",
          "data": {
            "image/png": "[encoded data removed]",
            "text/plain": [
              "<Figure size 720x360 with 1 Axes>"
            ]
          },
          "metadata": {
            "tags": [],
            "needs_background": "light"
          }
        }
      ]
    },
    {
      "cell_type": "markdown",
      "metadata": {
        "id": "A15-VSXBJdrT"
      },
      "source": [
        "# **Pola dan Dinamika**\r\n",
        "Ada yang akhirnya sembuh, namun tak sedikit pula yang meninggal akibat COVID-19. Sementara itu penambahan kasus baru terus terjadi di masyarakat. Hal ini mungkin memicu pertanyaan lain di diri Anda: \"Hingga saat ini ada berapa kasus yang masih aktif?\"\r\n",
        "\r\n",
        "Aktif dalam artian sedang dalam perawatan atau isolasi.\r\n",
        "\r\n",
        "Informasi ini sebenarnya telah disediakan di dalam respon API covid19.go.id yang Anda minta. Namun tidak ada salahnya jika Anda mencoba menghitungnya sendiri, apakah Anda setuju?\r\n",
        "\r\n",
        "Jumlah kasus aktif dapat dihitung dengan cara mengurangi jumlah akumulasi positif dengan jumlah akumulasi sembuh dan jumlah akumulasi meninggal. Anda dapat menggunakan method cumsum() untuk menghitung nilai akumulasi dari suatu vektor numerik. Lengkapilah baris kode berikut untuk menghitung jumlah akumulasi kasus aktif, kasus sembuh, dan kasus meninggal!\r\n"
      ]
    },
    {
      "cell_type": "code",
      "metadata": {
        "colab": {
          "base_uri": "https://localhost:8080/",
          "height": 197
        },
        "id": "C_1O1mD254Oa",
        "outputId": "ae7980a6-494a-4261-dbd1-0c4db13cfecf"
      },
      "source": [
        "cov_jabar_akumulasi = cov_jabar_tidy[['tanggal']].copy()\r\n",
        "cov_jabar_akumulasi['akumulasi_aktif'] = (cov_jabar_tidy['kasus_baru'] - cov_jabar_tidy['sembuh'] - cov_jabar_tidy['meninggal']).cumsum()\r\n",
        "cov_jabar_akumulasi['akumulasi_sembuh'] = cov_jabar_tidy['sembuh'].cumsum()\r\n",
        "cov_jabar_akumulasi['akumulasi_meninggal'] = cov_jabar_tidy['meninggal'].cumsum()\r\n",
        "cov_jabar_akumulasi.tail()"
      ],
      "execution_count": 38,
      "outputs": [
        {
          "output_type": "execute_result",
          "data": {
            "text/html": [
              "<div>\n",
              "<style scoped>\n",
              "    .dataframe tbody tr th:only-of-type {\n",
              "        vertical-align: middle;\n",
              "    }\n",
              "\n",
              "    .dataframe tbody tr th {\n",
              "        vertical-align: top;\n",
              "    }\n",
              "\n",
              "    .dataframe thead th {\n",
              "        text-align: right;\n",
              "    }\n",
              "</style>\n",
              "<table border=\"1\" class=\"dataframe\">\n",
              "  <thead>\n",
              "    <tr style=\"text-align: right;\">\n",
              "      <th></th>\n",
              "      <th>tanggal</th>\n",
              "      <th>akumulasi_aktif</th>\n",
              "      <th>akumulasi_sembuh</th>\n",
              "      <th>akumulasi_meninggal</th>\n",
              "    </tr>\n",
              "  </thead>\n",
              "  <tbody>\n",
              "    <tr>\n",
              "      <th>346</th>\n",
              "      <td>2021-02-11</td>\n",
              "      <td>27818</td>\n",
              "      <td>141779</td>\n",
              "      <td>2097</td>\n",
              "    </tr>\n",
              "    <tr>\n",
              "      <th>347</th>\n",
              "      <td>2021-02-12</td>\n",
              "      <td>26913</td>\n",
              "      <td>143362</td>\n",
              "      <td>2102</td>\n",
              "    </tr>\n",
              "    <tr>\n",
              "      <th>348</th>\n",
              "      <td>2021-02-13</td>\n",
              "      <td>26164</td>\n",
              "      <td>145845</td>\n",
              "      <td>2104</td>\n",
              "    </tr>\n",
              "    <tr>\n",
              "      <th>349</th>\n",
              "      <td>2021-02-14</td>\n",
              "      <td>25347</td>\n",
              "      <td>147539</td>\n",
              "      <td>2108</td>\n",
              "    </tr>\n",
              "    <tr>\n",
              "      <th>350</th>\n",
              "      <td>2021-02-15</td>\n",
              "      <td>25024</td>\n",
              "      <td>148804</td>\n",
              "      <td>2113</td>\n",
              "    </tr>\n",
              "  </tbody>\n",
              "</table>\n",
              "</div>"
            ],
            "text/plain": [
              "       tanggal  akumulasi_aktif  akumulasi_sembuh  akumulasi_meninggal\n",
              "346 2021-02-11            27818            141779                 2097\n",
              "347 2021-02-12            26913            143362                 2102\n",
              "348 2021-02-13            26164            145845                 2104\n",
              "349 2021-02-14            25347            147539                 2108\n",
              "350 2021-02-15            25024            148804                 2113"
            ]
          },
          "metadata": {
            "tags": []
          },
          "execution_count": 38
        }
      ]
    },
    {
      "cell_type": "markdown",
      "metadata": {
        "id": "SIDR3Z8CJnjW"
      },
      "source": [
        "# **Membuat Line Chart**\r\n",
        "Sekarang cobalah Anda buat line-chart pola kasus aktif dengan menggunakan method `plot` pada `ax`\r\n"
      ]
    },
    {
      "cell_type": "code",
      "metadata": {
        "colab": {
          "base_uri": "https://localhost:8080/",
          "height": 388
        },
        "id": "w38whch36ka4",
        "outputId": "afd6d114-b101-4c89-a749-c0c799b9db1d"
      },
      "source": [
        "import matplotlib.pyplot as plt\r\n",
        "import matplotlib.dates as mdates\r\n",
        "\r\n",
        "plt.clf()\r\n",
        "fig, ax = plt.subplots(figsize=(10,5))\r\n",
        "ax.plot('tanggal', 'akumulasi_aktif', data=cov_jabar_akumulasi, lw=2)\r\n",
        "\r\n",
        "ax.set_title('Akumulasi aktif COVID-19 di Jawa Barat',\r\n",
        "fontsize=22)\r\n",
        "ax.set_xlabel('')\r\n",
        "ax.set_ylabel('Akumulasi aktif')\r\n",
        "ax.text(1, -0.1, 'Sumber data: covid.19.go.id', color='blue',\r\n",
        "ha='right', transform=ax.transAxes)\r\n",
        "\r\n",
        "ax.xaxis.set_major_locator(mdates.MonthLocator())\r\n",
        "ax.xaxis.set_major_formatter(mdates.DateFormatter('%b %Y'))\r\n",
        "\r\n",
        "plt.grid()\r\n",
        "plt.tight_layout()\r\n",
        "plt.show()"
      ],
      "execution_count": 43,
      "outputs": [
        {
          "output_type": "display_data",
          "data": {
            "text/plain": [
              "<Figure size 432x288 with 0 Axes>"
            ]
          },
          "metadata": {
            "tags": []
          }
        },
        {
          "output_type": "display_data",
          "data": {
            "image/png": "[encoded data removed]",
            "text/plain": [
              "<Figure size 720x360 with 1 Axes>"
            ]
          },
          "metadata": {
            "tags": [],
            "needs_background": "light"
          }
        }
      ]
    },
    {
      "cell_type": "markdown",
      "metadata": {
        "id": "ijCY8mKBJzh2"
      },
      "source": [
        "# **Kabar Buruk dan Kabar Baik**\r\n",
        "Sebagai penutup analisis dalam proyek ini Anda diminta untuk membuat grafik komparasi antara akumulasi kasus aktif, kasus sembuh, dan kasus meninggal.\r\n",
        "Ada dua pilihan cara yang dapat Anda tempuh untuk membuat grafik tersebut:\r\n",
        "1.\tMenggunakan data frame `cov_jabar_akumulasi`, kemudian langsung melakukan line plot dan memilih warna garis yang sesuai untuk membedakan; atau\r\n",
        "2.\tMenggunakan `ax.plot()` dan mengisikan kolom-kolom yang masing-masingnya menjadi x dan y dengan data=`cov_jabar_akumulasi`, dan kemudian menset warna berbeda untuk ketiga line plot.\r\n"
      ]
    },
    {
      "cell_type": "code",
      "metadata": {
        "colab": {
          "base_uri": "https://localhost:8080/",
          "height": 388
        },
        "id": "DelUIctU7fOt",
        "outputId": "b54cba55-7093-46e3-ab97-852b4713b3c5"
      },
      "source": [
        "import matplotlib.pyplot as plt\r\n",
        "import matplotlib.dates as mdates\r\n",
        "\r\n",
        "plt.clf()\r\n",
        "fig, ax = plt.subplots(figsize=(10,5))\r\n",
        "cov_jabar_akumulasi.plot(x='tanggal', kind='line', ax=ax, lw=3,\r\n",
        "color=['salmon', 'slategrey', 'olivedrab'])\r\n",
        "\r\n",
        "ax.set_title('Dinamika Kasus COVID-19 di Jawa Barat',\r\n",
        "fontsize=22)\r\n",
        "ax.set_xlabel('')\r\n",
        "ax.set_ylabel('Akumulasi aktif')\r\n",
        "ax.text(1, -0.1, 'Sumber data: covid.19.go.id', color='blue',\r\n",
        "ha='right', transform=ax.transAxes)\r\n",
        "\r\n",
        "ax.xaxis.set_major_locator(mdates.MonthLocator())\r\n",
        "ax.xaxis.set_major_formatter(mdates.DateFormatter('%b'))\r\n",
        "\r\n",
        "plt.grid()\r\n",
        "plt.tight_layout()\r\n",
        "plt.show()"
      ],
      "execution_count": 44,
      "outputs": [
        {
          "output_type": "display_data",
          "data": {
            "text/plain": [
              "<Figure size 432x288 with 0 Axes>"
            ]
          },
          "metadata": {
            "tags": []
          }
        },
        {
          "output_type": "display_data",
          "data": {
            "image/png": "[encoded data removed]",
            "text/plain": [
              "<Figure size 720x360 with 1 Axes>"
            ]
          },
          "metadata": {
            "tags": [],
            "needs_background": "light"
          }
        }
      ]
    }
  ]
}